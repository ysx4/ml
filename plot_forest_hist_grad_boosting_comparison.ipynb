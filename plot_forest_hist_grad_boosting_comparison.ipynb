{
  "cells": [
    {
      "cell_type": "markdown",
      "metadata": {},
      "source": [
        "\n",
        "# Comparing Random Forests and Histogram Gradient Boosting models\n",
        "\n",
        "In this example we compare the performance of Random Forest (RF) and Histogram\n",
        "Gradient Boosting (HGBT) models in terms of score and computation time for a\n",
        "regression dataset, though **all the concepts here presented apply to\n",
        "classification as well**.\n",
        "\n",
        "The comparison is made by varying the parameters that control the number of\n",
        "trees according to each estimator:\n",
        "\n",
        "- `n_estimators` controls the number of trees in the forest. It's a fixed number.\n",
        "- `max_iter` is the maximum number of iterations in a gradient boosting\n",
        "  based model. The number of iterations corresponds to the number of trees for\n",
        "  regression and binary classification problems. Furthermore, the actual number\n",
        "  of trees required by the model depends on the stopping criteria.\n",
        "\n",
        "HGBT uses gradient boosting to iteratively improve the model's performance by\n",
        "fitting each tree to the negative gradient of the loss function with respect to\n",
        "the predicted value. RFs, on the other hand, are based on bagging and use a\n",
        "majority vote to predict the outcome.\n",
        "\n",
        "For more information on ensemble models, see the `User Guide <ensemble>`.\n"
      ]
    },
    {
      "cell_type": "code",
      "execution_count": 1,
      "metadata": {
        "collapsed": false
      },
      "outputs": [],
      "source": [
        "# Author:  Arturo Amor <david-arturo.amor-quiroz@inria.fr>\n",
        "# License: BSD 3 clause"
      ]
    },
    {
      "cell_type": "markdown",
      "metadata": {},
      "source": [
        "## Load dataset\n",
        "\n"
      ]
    },
    {
      "cell_type": "code",
      "execution_count": 2,
      "metadata": {
        "collapsed": false
      },
      "outputs": [],
      "source": [
        "from sklearn.datasets import fetch_california_housing\n",
        "\n",
        "X, y = fetch_california_housing(return_X_y=True, as_frame=True)\n",
        "n_samples, n_features = X.shape"
      ]
    },
    {
      "cell_type": "markdown",
      "metadata": {},
      "source": [
        "HGBT uses a histogram-based algorithm on binned feature values that can\n",
        "efficiently handle large datasets (tens of thousands of samples or more) with\n",
        "a high number of features (see `Why_it's_faster`). The scikit-learn\n",
        "implementation of RF does not use binning and relies on exact splitting, which\n",
        "can be computationally expensive.\n",
        "\n"
      ]
    },
    {
      "cell_type": "code",
      "execution_count": 3,
      "metadata": {
        "collapsed": false
      },
      "outputs": [
        {
          "name": "stdout",
          "output_type": "stream",
          "text": [
            "The dataset consists of 20640 samples and 8 features\n"
          ]
        }
      ],
      "source": [
        "print(f\"The dataset consists of {n_samples} samples and {n_features} features\")"
      ]
    },
    {
      "cell_type": "markdown",
      "metadata": {},
      "source": [
        "## Compute score and computation times\n",
        "\n",
        "Notice that many parts of the implementation of\n",
        ":class:`~sklearn.ensemble.HistGradientBoostingClassifier` and\n",
        ":class:`~sklearn.ensemble.HistGradientBoostingRegressor` are parallelized by\n",
        "default.\n",
        "\n",
        "The implementation of :class:`~sklearn.ensemble.RandomForestRegressor` and\n",
        ":class:`~sklearn.ensemble.RandomForestClassifier` can also be run on multiple\n",
        "cores by using the `n_jobs` parameter, here set to match the number of\n",
        "physical cores on the host machine. See `parallelism` for more\n",
        "information.\n",
        "\n"
      ]
    },
    {
      "cell_type": "code",
      "execution_count": 4,
      "metadata": {
        "collapsed": false
      },
      "outputs": [
        {
          "name": "stdout",
          "output_type": "stream",
          "text": [
            "Number of physical cores: 4\n"
          ]
        }
      ],
      "source": [
        "import joblib\n",
        "\n",
        "N_CORES = joblib.cpu_count(only_physical_cores=True)\n",
        "print(f\"Number of physical cores: {N_CORES}\")"
      ]
    },
    {
      "cell_type": "markdown",
      "metadata": {},
      "source": [
        "Unlike RF, HGBT models offer an early-stopping option (see\n",
        "`sphx_glr_auto_examples_ensemble_plot_gradient_boosting_early_stopping.py`)\n",
        "to avoid adding new unnecessary trees. Internally, the algorithm uses an\n",
        "out-of-sample set to compute the generalization performance of the model at\n",
        "each addition of a tree. Thus, if the generalization performance is not\n",
        "improving for more than `n_iter_no_change` iterations, it stops adding trees.\n",
        "\n",
        "The other parameters of both models were tuned but the procedure is not shown\n",
        "here to keep the example simple.\n",
        "\n"
      ]
    },
    {
      "cell_type": "code",
      "execution_count": 5,
      "metadata": {
        "collapsed": false
      },
      "outputs": [],
      "source": [
        "import pandas as pd\n",
        "\n",
        "from sklearn.ensemble import HistGradientBoostingRegressor, RandomForestRegressor\n",
        "from sklearn.model_selection import GridSearchCV, KFold\n",
        "\n",
        "models = {\n",
        "    \"Random Forest\": RandomForestRegressor(\n",
        "        min_samples_leaf=5, random_state=0, n_jobs=N_CORES\n",
        "    ),\n",
        "    \"Hist Gradient Boosting\": HistGradientBoostingRegressor(\n",
        "        max_leaf_nodes=15, random_state=0, early_stopping=False\n",
        "    ),\n",
        "}\n",
        "param_grids = {\n",
        "    \"Random Forest\": {\"n_estimators\": [10, 20, 50, 100]},\n",
        "    \"Hist Gradient Boosting\": {\"max_iter\": [10, 20, 50, 100, 300, 500]},\n",
        "}\n",
        "cv = KFold(n_splits=4, shuffle=True, random_state=0)\n",
        "\n",
        "results = []\n",
        "for name, model in models.items():\n",
        "    grid_search = GridSearchCV(\n",
        "        estimator=model,\n",
        "        param_grid=param_grids[name],\n",
        "        return_train_score=True,\n",
        "        cv=cv,\n",
        "    ).fit(X, y)\n",
        "    result = {\"model\": name, \"cv_results\": pd.DataFrame(grid_search.cv_results_)}\n",
        "    results.append(result)"
      ]
    },
    {
      "cell_type": "markdown",
      "metadata": {},
      "source": [
        ".. Note::\n",
        " Tuning the `n_estimators` for RF generally results in a waste of computer\n",
        " power. In practice one just needs to ensure that it is large enough so that\n",
        " doubling its value does not lead to a significant improvement of the testing\n",
        " score.\n",
        "\n",
        "## Plot results\n",
        "We can use a [plotly.express.scatter](https://plotly.com/python-api-reference/generated/plotly.express.scatter.html)\n",
        "to visualize the trade-off between elapsed computing time and mean test score.\n",
        "Passing the cursor over a given point displays the corresponding parameters.\n",
        "Error bars correspond to one standard deviation as computed in the different\n",
        "folds of the cross-validation.\n",
        "\n"
      ]
    },
    {
      "cell_type": "code",
      "execution_count": 6,
      "metadata": {
        "collapsed": false
      },
      "outputs": [
        {
          "data": {
            "application/vnd.plotly.v1+json": {
              "config": {
                "plotlyServerURL": "https://plot.ly"
              },
              "data": [
                {
                  "customdata": [
                    [
                      10
                    ],
                    [
                      20
                    ],
                    [
                      50
                    ],
                    [
                      100
                    ]
                  ],
                  "error_x": {
                    "array": [
                      0.054,
                      0.035,
                      0.106,
                      0.234
                    ]
                  },
                  "error_y": {
                    "array": [
                      0.011,
                      0.011,
                      0.009,
                      0.009
                    ]
                  },
                  "hovertemplate": "model=Random Forest<br>mean_fit_time=%{x}<br>mean_test_score=%{y}<br>n_estimators=%{customdata[0]}<extra></extra>",
                  "legendgroup": "Random Forest",
                  "marker": {
                    "color": "#636EFA",
                    "symbol": "circle"
                  },
                  "mode": "markers",
                  "name": "Random Forest",
                  "orientation": "v",
                  "showlegend": true,
                  "type": "scatter",
                  "x": [
                    0.39,
                    0.738,
                    1.573,
                    3.159
                  ],
                  "xaxis": "x",
                  "y": [
                    0.793,
                    0.799,
                    0.803,
                    0.805
                  ],
                  "yaxis": "y"
                },
                {
                  "hovertemplate": "mean_fit_time=%{x}<br>mean_test_score=%{y}<extra></extra>",
                  "legendgroup": "",
                  "line": {
                    "color": "#636EFA",
                    "dash": "solid"
                  },
                  "marker": {
                    "symbol": "circle"
                  },
                  "mode": "lines",
                  "name": "",
                  "orientation": "v",
                  "showlegend": false,
                  "type": "scatter",
                  "x": [
                    0.39,
                    0.738,
                    1.573,
                    3.159
                  ],
                  "xaxis": "x",
                  "y": [
                    0.793,
                    0.799,
                    0.803,
                    0.805
                  ],
                  "yaxis": "y"
                },
                {
                  "customdata": [
                    [
                      10
                    ],
                    [
                      20
                    ],
                    [
                      50
                    ],
                    [
                      100
                    ]
                  ],
                  "error_x": {
                    "array": [
                      0.002,
                      0.001,
                      0.001,
                      0.002
                    ]
                  },
                  "error_y": {
                    "array": [
                      0.011,
                      0.011,
                      0.009,
                      0.009
                    ]
                  },
                  "hovertemplate": "mean_score_time=%{x}<br>mean_test_score=%{y}<br>n_estimators=%{customdata[0]}<extra></extra>",
                  "legendgroup": "",
                  "marker": {
                    "color": "#636EFA",
                    "symbol": "circle"
                  },
                  "mode": "markers",
                  "name": "",
                  "orientation": "v",
                  "showlegend": false,
                  "type": "scatter",
                  "x": [
                    0.016,
                    0.016,
                    0.027,
                    0.049
                  ],
                  "xaxis": "x2",
                  "y": [
                    0.793,
                    0.799,
                    0.803,
                    0.805
                  ],
                  "yaxis": "y2"
                },
                {
                  "hovertemplate": "mean_score_time=%{x}<br>mean_test_score=%{y}<extra></extra>",
                  "legendgroup": "",
                  "line": {
                    "color": "#636EFA",
                    "dash": "solid"
                  },
                  "marker": {
                    "symbol": "circle"
                  },
                  "mode": "lines",
                  "name": "",
                  "orientation": "v",
                  "showlegend": false,
                  "type": "scatter",
                  "x": [
                    0.016,
                    0.016,
                    0.027,
                    0.049
                  ],
                  "xaxis": "x2",
                  "y": [
                    0.793,
                    0.799,
                    0.803,
                    0.805
                  ],
                  "yaxis": "y2"
                },
                {
                  "customdata": [
                    [
                      10
                    ],
                    [
                      20
                    ],
                    [
                      50
                    ],
                    [
                      100
                    ],
                    [
                      300
                    ],
                    [
                      500
                    ]
                  ],
                  "error_x": {
                    "array": [
                      0.005,
                      0.006,
                      0.028,
                      0.075,
                      0.484,
                      0.026
                    ]
                  },
                  "error_y": {
                    "array": [
                      0.007,
                      0.008,
                      0.006,
                      0.003,
                      0.003,
                      0.003
                    ]
                  },
                  "hovertemplate": "model=Hist Gradient Boosting<br>mean_fit_time=%{x}<br>mean_test_score=%{y}<br>max_iter=%{customdata[0]}<extra></extra>",
                  "legendgroup": "Hist Gradient Boosting",
                  "marker": {
                    "color": "#EF553B",
                    "symbol": "circle"
                  },
                  "mode": "markers",
                  "name": "Hist Gradient Boosting",
                  "orientation": "v",
                  "showlegend": true,
                  "type": "scatter",
                  "x": [
                    0.053,
                    0.084,
                    0.183,
                    0.355,
                    1.057,
                    1.178
                  ],
                  "xaxis": "x",
                  "y": [
                    0.577,
                    0.714,
                    0.8,
                    0.823,
                    0.843,
                    0.848
                  ],
                  "yaxis": "y"
                },
                {
                  "hovertemplate": "mean_fit_time=%{x}<br>mean_test_score=%{y}<extra></extra>",
                  "legendgroup": "",
                  "line": {
                    "color": "#EF553B",
                    "dash": "solid"
                  },
                  "marker": {
                    "symbol": "circle"
                  },
                  "mode": "lines",
                  "name": "",
                  "orientation": "v",
                  "showlegend": false,
                  "type": "scatter",
                  "x": [
                    0.053,
                    0.084,
                    0.183,
                    0.355,
                    1.057,
                    1.178
                  ],
                  "xaxis": "x",
                  "y": [
                    0.577,
                    0.714,
                    0.8,
                    0.823,
                    0.843,
                    0.848
                  ],
                  "yaxis": "y"
                },
                {
                  "customdata": [
                    [
                      10
                    ],
                    [
                      20
                    ],
                    [
                      50
                    ],
                    [
                      100
                    ],
                    [
                      300
                    ],
                    [
                      500
                    ]
                  ],
                  "error_x": {
                    "array": [
                      0.003,
                      0.004,
                      0.003,
                      0.011,
                      0.014,
                      0.003
                    ]
                  },
                  "error_y": {
                    "array": [
                      0.007,
                      0.008,
                      0.006,
                      0.003,
                      0.003,
                      0.003
                    ]
                  },
                  "hovertemplate": "mean_score_time=%{x}<br>mean_test_score=%{y}<br>max_iter=%{customdata[0]}<extra></extra>",
                  "legendgroup": "",
                  "marker": {
                    "color": "#EF553B",
                    "symbol": "circle"
                  },
                  "mode": "markers",
                  "name": "",
                  "orientation": "v",
                  "showlegend": false,
                  "type": "scatter",
                  "x": [
                    0.005,
                    0.006,
                    0.012,
                    0.031,
                    0.054,
                    0.064
                  ],
                  "xaxis": "x2",
                  "y": [
                    0.577,
                    0.714,
                    0.8,
                    0.823,
                    0.843,
                    0.848
                  ],
                  "yaxis": "y2"
                },
                {
                  "hovertemplate": "mean_score_time=%{x}<br>mean_test_score=%{y}<extra></extra>",
                  "legendgroup": "",
                  "line": {
                    "color": "#EF553B",
                    "dash": "solid"
                  },
                  "marker": {
                    "symbol": "circle"
                  },
                  "mode": "lines",
                  "name": "",
                  "orientation": "v",
                  "showlegend": false,
                  "type": "scatter",
                  "x": [
                    0.005,
                    0.006,
                    0.012,
                    0.031,
                    0.054,
                    0.064
                  ],
                  "xaxis": "x2",
                  "y": [
                    0.577,
                    0.714,
                    0.8,
                    0.823,
                    0.843,
                    0.848
                  ],
                  "yaxis": "y2"
                }
              ],
              "layout": {
                "annotations": [
                  {
                    "font": {
                      "size": 16
                    },
                    "showarrow": false,
                    "text": "Train time vs score",
                    "x": 0.225,
                    "xanchor": "center",
                    "xref": "paper",
                    "y": 1,
                    "yanchor": "bottom",
                    "yref": "paper"
                  },
                  {
                    "font": {
                      "size": 16
                    },
                    "showarrow": false,
                    "text": "Predict time vs score",
                    "x": 0.775,
                    "xanchor": "center",
                    "xref": "paper",
                    "y": 1,
                    "yanchor": "bottom",
                    "yref": "paper"
                  }
                ],
                "legend": {
                  "borderwidth": 1,
                  "traceorder": "normal",
                  "x": 0.72,
                  "y": 0.05
                },
                "template": {
                  "data": {
                    "bar": [
                      {
                        "error_x": {
                          "color": "#2a3f5f"
                        },
                        "error_y": {
                          "color": "#2a3f5f"
                        },
                        "marker": {
                          "line": {
                            "color": "#E5ECF6",
                            "width": 0.5
                          },
                          "pattern": {
                            "fillmode": "overlay",
                            "size": 10,
                            "solidity": 0.2
                          }
                        },
                        "type": "bar"
                      }
                    ],
                    "barpolar": [
                      {
                        "marker": {
                          "line": {
                            "color": "#E5ECF6",
                            "width": 0.5
                          },
                          "pattern": {
                            "fillmode": "overlay",
                            "size": 10,
                            "solidity": 0.2
                          }
                        },
                        "type": "barpolar"
                      }
                    ],
                    "carpet": [
                      {
                        "aaxis": {
                          "endlinecolor": "#2a3f5f",
                          "gridcolor": "white",
                          "linecolor": "white",
                          "minorgridcolor": "white",
                          "startlinecolor": "#2a3f5f"
                        },
                        "baxis": {
                          "endlinecolor": "#2a3f5f",
                          "gridcolor": "white",
                          "linecolor": "white",
                          "minorgridcolor": "white",
                          "startlinecolor": "#2a3f5f"
                        },
                        "type": "carpet"
                      }
                    ],
                    "choropleth": [
                      {
                        "colorbar": {
                          "outlinewidth": 0,
                          "ticks": ""
                        },
                        "type": "choropleth"
                      }
                    ],
                    "contour": [
                      {
                        "colorbar": {
                          "outlinewidth": 0,
                          "ticks": ""
                        },
                        "colorscale": [
                          [
                            0,
                            "#0d0887"
                          ],
                          [
                            0.1111111111111111,
                            "#46039f"
                          ],
                          [
                            0.2222222222222222,
                            "#7201a8"
                          ],
                          [
                            0.3333333333333333,
                            "#9c179e"
                          ],
                          [
                            0.4444444444444444,
                            "#bd3786"
                          ],
                          [
                            0.5555555555555556,
                            "#d8576b"
                          ],
                          [
                            0.6666666666666666,
                            "#ed7953"
                          ],
                          [
                            0.7777777777777778,
                            "#fb9f3a"
                          ],
                          [
                            0.8888888888888888,
                            "#fdca26"
                          ],
                          [
                            1,
                            "#f0f921"
                          ]
                        ],
                        "type": "contour"
                      }
                    ],
                    "contourcarpet": [
                      {
                        "colorbar": {
                          "outlinewidth": 0,
                          "ticks": ""
                        },
                        "type": "contourcarpet"
                      }
                    ],
                    "heatmap": [
                      {
                        "colorbar": {
                          "outlinewidth": 0,
                          "ticks": ""
                        },
                        "colorscale": [
                          [
                            0,
                            "#0d0887"
                          ],
                          [
                            0.1111111111111111,
                            "#46039f"
                          ],
                          [
                            0.2222222222222222,
                            "#7201a8"
                          ],
                          [
                            0.3333333333333333,
                            "#9c179e"
                          ],
                          [
                            0.4444444444444444,
                            "#bd3786"
                          ],
                          [
                            0.5555555555555556,
                            "#d8576b"
                          ],
                          [
                            0.6666666666666666,
                            "#ed7953"
                          ],
                          [
                            0.7777777777777778,
                            "#fb9f3a"
                          ],
                          [
                            0.8888888888888888,
                            "#fdca26"
                          ],
                          [
                            1,
                            "#f0f921"
                          ]
                        ],
                        "type": "heatmap"
                      }
                    ],
                    "heatmapgl": [
                      {
                        "colorbar": {
                          "outlinewidth": 0,
                          "ticks": ""
                        },
                        "colorscale": [
                          [
                            0,
                            "#0d0887"
                          ],
                          [
                            0.1111111111111111,
                            "#46039f"
                          ],
                          [
                            0.2222222222222222,
                            "#7201a8"
                          ],
                          [
                            0.3333333333333333,
                            "#9c179e"
                          ],
                          [
                            0.4444444444444444,
                            "#bd3786"
                          ],
                          [
                            0.5555555555555556,
                            "#d8576b"
                          ],
                          [
                            0.6666666666666666,
                            "#ed7953"
                          ],
                          [
                            0.7777777777777778,
                            "#fb9f3a"
                          ],
                          [
                            0.8888888888888888,
                            "#fdca26"
                          ],
                          [
                            1,
                            "#f0f921"
                          ]
                        ],
                        "type": "heatmapgl"
                      }
                    ],
                    "histogram": [
                      {
                        "marker": {
                          "pattern": {
                            "fillmode": "overlay",
                            "size": 10,
                            "solidity": 0.2
                          }
                        },
                        "type": "histogram"
                      }
                    ],
                    "histogram2d": [
                      {
                        "colorbar": {
                          "outlinewidth": 0,
                          "ticks": ""
                        },
                        "colorscale": [
                          [
                            0,
                            "#0d0887"
                          ],
                          [
                            0.1111111111111111,
                            "#46039f"
                          ],
                          [
                            0.2222222222222222,
                            "#7201a8"
                          ],
                          [
                            0.3333333333333333,
                            "#9c179e"
                          ],
                          [
                            0.4444444444444444,
                            "#bd3786"
                          ],
                          [
                            0.5555555555555556,
                            "#d8576b"
                          ],
                          [
                            0.6666666666666666,
                            "#ed7953"
                          ],
                          [
                            0.7777777777777778,
                            "#fb9f3a"
                          ],
                          [
                            0.8888888888888888,
                            "#fdca26"
                          ],
                          [
                            1,
                            "#f0f921"
                          ]
                        ],
                        "type": "histogram2d"
                      }
                    ],
                    "histogram2dcontour": [
                      {
                        "colorbar": {
                          "outlinewidth": 0,
                          "ticks": ""
                        },
                        "colorscale": [
                          [
                            0,
                            "#0d0887"
                          ],
                          [
                            0.1111111111111111,
                            "#46039f"
                          ],
                          [
                            0.2222222222222222,
                            "#7201a8"
                          ],
                          [
                            0.3333333333333333,
                            "#9c179e"
                          ],
                          [
                            0.4444444444444444,
                            "#bd3786"
                          ],
                          [
                            0.5555555555555556,
                            "#d8576b"
                          ],
                          [
                            0.6666666666666666,
                            "#ed7953"
                          ],
                          [
                            0.7777777777777778,
                            "#fb9f3a"
                          ],
                          [
                            0.8888888888888888,
                            "#fdca26"
                          ],
                          [
                            1,
                            "#f0f921"
                          ]
                        ],
                        "type": "histogram2dcontour"
                      }
                    ],
                    "mesh3d": [
                      {
                        "colorbar": {
                          "outlinewidth": 0,
                          "ticks": ""
                        },
                        "type": "mesh3d"
                      }
                    ],
                    "parcoords": [
                      {
                        "line": {
                          "colorbar": {
                            "outlinewidth": 0,
                            "ticks": ""
                          }
                        },
                        "type": "parcoords"
                      }
                    ],
                    "pie": [
                      {
                        "automargin": true,
                        "type": "pie"
                      }
                    ],
                    "scatter": [
                      {
                        "fillpattern": {
                          "fillmode": "overlay",
                          "size": 10,
                          "solidity": 0.2
                        },
                        "type": "scatter"
                      }
                    ],
                    "scatter3d": [
                      {
                        "line": {
                          "colorbar": {
                            "outlinewidth": 0,
                            "ticks": ""
                          }
                        },
                        "marker": {
                          "colorbar": {
                            "outlinewidth": 0,
                            "ticks": ""
                          }
                        },
                        "type": "scatter3d"
                      }
                    ],
                    "scattercarpet": [
                      {
                        "marker": {
                          "colorbar": {
                            "outlinewidth": 0,
                            "ticks": ""
                          }
                        },
                        "type": "scattercarpet"
                      }
                    ],
                    "scattergeo": [
                      {
                        "marker": {
                          "colorbar": {
                            "outlinewidth": 0,
                            "ticks": ""
                          }
                        },
                        "type": "scattergeo"
                      }
                    ],
                    "scattergl": [
                      {
                        "marker": {
                          "colorbar": {
                            "outlinewidth": 0,
                            "ticks": ""
                          }
                        },
                        "type": "scattergl"
                      }
                    ],
                    "scattermapbox": [
                      {
                        "marker": {
                          "colorbar": {
                            "outlinewidth": 0,
                            "ticks": ""
                          }
                        },
                        "type": "scattermapbox"
                      }
                    ],
                    "scatterpolar": [
                      {
                        "marker": {
                          "colorbar": {
                            "outlinewidth": 0,
                            "ticks": ""
                          }
                        },
                        "type": "scatterpolar"
                      }
                    ],
                    "scatterpolargl": [
                      {
                        "marker": {
                          "colorbar": {
                            "outlinewidth": 0,
                            "ticks": ""
                          }
                        },
                        "type": "scatterpolargl"
                      }
                    ],
                    "scatterternary": [
                      {
                        "marker": {
                          "colorbar": {
                            "outlinewidth": 0,
                            "ticks": ""
                          }
                        },
                        "type": "scatterternary"
                      }
                    ],
                    "surface": [
                      {
                        "colorbar": {
                          "outlinewidth": 0,
                          "ticks": ""
                        },
                        "colorscale": [
                          [
                            0,
                            "#0d0887"
                          ],
                          [
                            0.1111111111111111,
                            "#46039f"
                          ],
                          [
                            0.2222222222222222,
                            "#7201a8"
                          ],
                          [
                            0.3333333333333333,
                            "#9c179e"
                          ],
                          [
                            0.4444444444444444,
                            "#bd3786"
                          ],
                          [
                            0.5555555555555556,
                            "#d8576b"
                          ],
                          [
                            0.6666666666666666,
                            "#ed7953"
                          ],
                          [
                            0.7777777777777778,
                            "#fb9f3a"
                          ],
                          [
                            0.8888888888888888,
                            "#fdca26"
                          ],
                          [
                            1,
                            "#f0f921"
                          ]
                        ],
                        "type": "surface"
                      }
                    ],
                    "table": [
                      {
                        "cells": {
                          "fill": {
                            "color": "#EBF0F8"
                          },
                          "line": {
                            "color": "white"
                          }
                        },
                        "header": {
                          "fill": {
                            "color": "#C8D4E3"
                          },
                          "line": {
                            "color": "white"
                          }
                        },
                        "type": "table"
                      }
                    ]
                  },
                  "layout": {
                    "annotationdefaults": {
                      "arrowcolor": "#2a3f5f",
                      "arrowhead": 0,
                      "arrowwidth": 1
                    },
                    "autotypenumbers": "strict",
                    "coloraxis": {
                      "colorbar": {
                        "outlinewidth": 0,
                        "ticks": ""
                      }
                    },
                    "colorscale": {
                      "diverging": [
                        [
                          0,
                          "#8e0152"
                        ],
                        [
                          0.1,
                          "#c51b7d"
                        ],
                        [
                          0.2,
                          "#de77ae"
                        ],
                        [
                          0.3,
                          "#f1b6da"
                        ],
                        [
                          0.4,
                          "#fde0ef"
                        ],
                        [
                          0.5,
                          "#f7f7f7"
                        ],
                        [
                          0.6,
                          "#e6f5d0"
                        ],
                        [
                          0.7,
                          "#b8e186"
                        ],
                        [
                          0.8,
                          "#7fbc41"
                        ],
                        [
                          0.9,
                          "#4d9221"
                        ],
                        [
                          1,
                          "#276419"
                        ]
                      ],
                      "sequential": [
                        [
                          0,
                          "#0d0887"
                        ],
                        [
                          0.1111111111111111,
                          "#46039f"
                        ],
                        [
                          0.2222222222222222,
                          "#7201a8"
                        ],
                        [
                          0.3333333333333333,
                          "#9c179e"
                        ],
                        [
                          0.4444444444444444,
                          "#bd3786"
                        ],
                        [
                          0.5555555555555556,
                          "#d8576b"
                        ],
                        [
                          0.6666666666666666,
                          "#ed7953"
                        ],
                        [
                          0.7777777777777778,
                          "#fb9f3a"
                        ],
                        [
                          0.8888888888888888,
                          "#fdca26"
                        ],
                        [
                          1,
                          "#f0f921"
                        ]
                      ],
                      "sequentialminus": [
                        [
                          0,
                          "#0d0887"
                        ],
                        [
                          0.1111111111111111,
                          "#46039f"
                        ],
                        [
                          0.2222222222222222,
                          "#7201a8"
                        ],
                        [
                          0.3333333333333333,
                          "#9c179e"
                        ],
                        [
                          0.4444444444444444,
                          "#bd3786"
                        ],
                        [
                          0.5555555555555556,
                          "#d8576b"
                        ],
                        [
                          0.6666666666666666,
                          "#ed7953"
                        ],
                        [
                          0.7777777777777778,
                          "#fb9f3a"
                        ],
                        [
                          0.8888888888888888,
                          "#fdca26"
                        ],
                        [
                          1,
                          "#f0f921"
                        ]
                      ]
                    },
                    "colorway": [
                      "#636efa",
                      "#EF553B",
                      "#00cc96",
                      "#ab63fa",
                      "#FFA15A",
                      "#19d3f3",
                      "#FF6692",
                      "#B6E880",
                      "#FF97FF",
                      "#FECB52"
                    ],
                    "font": {
                      "color": "#2a3f5f"
                    },
                    "geo": {
                      "bgcolor": "white",
                      "lakecolor": "white",
                      "landcolor": "#E5ECF6",
                      "showlakes": true,
                      "showland": true,
                      "subunitcolor": "white"
                    },
                    "hoverlabel": {
                      "align": "left"
                    },
                    "hovermode": "closest",
                    "mapbox": {
                      "style": "light"
                    },
                    "paper_bgcolor": "white",
                    "plot_bgcolor": "#E5ECF6",
                    "polar": {
                      "angularaxis": {
                        "gridcolor": "white",
                        "linecolor": "white",
                        "ticks": ""
                      },
                      "bgcolor": "#E5ECF6",
                      "radialaxis": {
                        "gridcolor": "white",
                        "linecolor": "white",
                        "ticks": ""
                      }
                    },
                    "scene": {
                      "xaxis": {
                        "backgroundcolor": "#E5ECF6",
                        "gridcolor": "white",
                        "gridwidth": 2,
                        "linecolor": "white",
                        "showbackground": true,
                        "ticks": "",
                        "zerolinecolor": "white"
                      },
                      "yaxis": {
                        "backgroundcolor": "#E5ECF6",
                        "gridcolor": "white",
                        "gridwidth": 2,
                        "linecolor": "white",
                        "showbackground": true,
                        "ticks": "",
                        "zerolinecolor": "white"
                      },
                      "zaxis": {
                        "backgroundcolor": "#E5ECF6",
                        "gridcolor": "white",
                        "gridwidth": 2,
                        "linecolor": "white",
                        "showbackground": true,
                        "ticks": "",
                        "zerolinecolor": "white"
                      }
                    },
                    "shapedefaults": {
                      "line": {
                        "color": "#2a3f5f"
                      }
                    },
                    "ternary": {
                      "aaxis": {
                        "gridcolor": "white",
                        "linecolor": "white",
                        "ticks": ""
                      },
                      "baxis": {
                        "gridcolor": "white",
                        "linecolor": "white",
                        "ticks": ""
                      },
                      "bgcolor": "#E5ECF6",
                      "caxis": {
                        "gridcolor": "white",
                        "linecolor": "white",
                        "ticks": ""
                      }
                    },
                    "title": {
                      "x": 0.05
                    },
                    "xaxis": {
                      "automargin": true,
                      "gridcolor": "white",
                      "linecolor": "white",
                      "ticks": "",
                      "title": {
                        "standoff": 15
                      },
                      "zerolinecolor": "white",
                      "zerolinewidth": 2
                    },
                    "yaxis": {
                      "automargin": true,
                      "gridcolor": "white",
                      "linecolor": "white",
                      "ticks": "",
                      "title": {
                        "standoff": 15
                      },
                      "zerolinecolor": "white",
                      "zerolinewidth": 2
                    }
                  }
                },
                "title": {
                  "text": "Speed-score trade-off of tree-based ensembles",
                  "x": 0.5
                },
                "xaxis": {
                  "anchor": "y",
                  "domain": [
                    0,
                    0.45
                  ],
                  "title": {
                    "text": "Train time (s) - lower is better"
                  }
                },
                "xaxis2": {
                  "anchor": "y2",
                  "domain": [
                    0.55,
                    1
                  ],
                  "title": {
                    "text": "Predict time (s) - lower is better"
                  }
                },
                "yaxis": {
                  "anchor": "x",
                  "domain": [
                    0,
                    1
                  ],
                  "title": {
                    "text": "Test R2 score - higher is better"
                  }
                },
                "yaxis2": {
                  "anchor": "x2",
                  "domain": [
                    0,
                    1
                  ],
                  "matches": "y",
                  "showticklabels": false
                }
              }
            }
          },
          "metadata": {},
          "output_type": "display_data"
        }
      ],
      "source": [
        "import plotly.colors as colors\n",
        "import plotly.express as px\n",
        "from plotly.subplots import make_subplots\n",
        "\n",
        "fig = make_subplots(\n",
        "    rows=1,\n",
        "    cols=2,\n",
        "    shared_yaxes=True,\n",
        "    subplot_titles=[\"Train time vs score\", \"Predict time vs score\"],\n",
        ")\n",
        "model_names = [result[\"model\"] for result in results]\n",
        "colors_list = colors.qualitative.Plotly * (\n",
        "    len(model_names) // len(colors.qualitative.Plotly) + 1\n",
        ")\n",
        "\n",
        "for idx, result in enumerate(results):\n",
        "    cv_results = result[\"cv_results\"].round(3)\n",
        "    model_name = result[\"model\"]\n",
        "    param_name = list(param_grids[model_name].keys())[0]\n",
        "    cv_results[param_name] = cv_results[\"param_\" + param_name]\n",
        "    cv_results[\"model\"] = model_name\n",
        "\n",
        "    scatter_fig = px.scatter(\n",
        "        cv_results,\n",
        "        x=\"mean_fit_time\",\n",
        "        y=\"mean_test_score\",\n",
        "        error_x=\"std_fit_time\",\n",
        "        error_y=\"std_test_score\",\n",
        "        hover_data=param_name,\n",
        "        color=\"model\",\n",
        "    )\n",
        "    line_fig = px.line(\n",
        "        cv_results,\n",
        "        x=\"mean_fit_time\",\n",
        "        y=\"mean_test_score\",\n",
        "    )\n",
        "\n",
        "    scatter_trace = scatter_fig[\"data\"][0]\n",
        "    line_trace = line_fig[\"data\"][0]\n",
        "    scatter_trace.update(marker=dict(color=colors_list[idx]))\n",
        "    line_trace.update(line=dict(color=colors_list[idx]))\n",
        "    fig.add_trace(scatter_trace, row=1, col=1)\n",
        "    fig.add_trace(line_trace, row=1, col=1)\n",
        "\n",
        "    scatter_fig = px.scatter(\n",
        "        cv_results,\n",
        "        x=\"mean_score_time\",\n",
        "        y=\"mean_test_score\",\n",
        "        error_x=\"std_score_time\",\n",
        "        error_y=\"std_test_score\",\n",
        "        hover_data=param_name,\n",
        "    )\n",
        "    line_fig = px.line(\n",
        "        cv_results,\n",
        "        x=\"mean_score_time\",\n",
        "        y=\"mean_test_score\",\n",
        "    )\n",
        "\n",
        "    scatter_trace = scatter_fig[\"data\"][0]\n",
        "    line_trace = line_fig[\"data\"][0]\n",
        "    scatter_trace.update(marker=dict(color=colors_list[idx]))\n",
        "    line_trace.update(line=dict(color=colors_list[idx]))\n",
        "    fig.add_trace(scatter_trace, row=1, col=2)\n",
        "    fig.add_trace(line_trace, row=1, col=2)\n",
        "\n",
        "fig.update_layout(\n",
        "    xaxis=dict(title=\"Train time (s) - lower is better\"),\n",
        "    yaxis=dict(title=\"Test R2 score - higher is better\"),\n",
        "    xaxis2=dict(title=\"Predict time (s) - lower is better\"),\n",
        "    legend=dict(x=0.72, y=0.05, traceorder=\"normal\", borderwidth=1),\n",
        "    title=dict(x=0.5, text=\"Speed-score trade-off of tree-based ensembles\"),\n",
        ")"
      ]
    },
    {
      "cell_type": "markdown",
      "metadata": {},
      "source": [
        "Both HGBT and RF models improve when increasing the number of trees in the\n",
        "ensemble. However, the scores reach a plateau where adding new trees just\n",
        "makes fitting and scoring slower. The RF model reaches such plateau earlier\n",
        "and can never reach the test score of the largest HGBDT model.\n",
        "\n",
        "Note that the results shown on the above plot can change slightly across runs\n",
        "and even more significantly when running on other machines: try to run this\n",
        "example on your own local machine.\n",
        "\n",
        "Overall, one should often observe that the Histogram-based gradient boosting\n",
        "models uniformly dominate the Random Forest models in the \"test score vs\n",
        "training speed trade-off\" (the HGBDT curve should be on the top left of the RF\n",
        "curve, without ever crossing). The \"test score vs prediction speed\" trade-off\n",
        "can also be more disputed, but it's most often favorable to HGBDT. It's always\n",
        "a good idea to check both kinds of model (with hyper-parameter tuning) and\n",
        "compare their performance on your specific problem to determine which model is\n",
        "the best fit but **HGBT almost always offers a more favorable speed-accuracy\n",
        "trade-off than RF**, either with the default hyper-parameters or including the\n",
        "hyper-parameter tuning cost.\n",
        "\n",
        "There is one exception to this rule of thumb though: when training a\n",
        "multiclass classification model with a large number of possible classes, HGBDT\n",
        "fits internally one-tree per class at each boosting iteration while the trees\n",
        "used by the RF models are naturally multiclass which should improve the speed\n",
        "accuracy trade-off of the RF models in this case.\n",
        "\n"
      ]
    }
  ],
  "metadata": {
    "kernelspec": {
      "display_name": "Python 3",
      "language": "python",
      "name": "python3"
    },
    "language_info": {
      "codemirror_mode": {
        "name": "ipython",
        "version": 3
      },
      "file_extension": ".py",
      "mimetype": "text/x-python",
      "name": "python",
      "nbconvert_exporter": "python",
      "pygments_lexer": "ipython3",
      "version": "3.10.12"
    }
  },
  "nbformat": 4,
  "nbformat_minor": 0
}
